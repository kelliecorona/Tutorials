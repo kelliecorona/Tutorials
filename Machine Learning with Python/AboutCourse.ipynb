{
 "cells": [
  {
   "cell_type": "markdown",
   "metadata": {},
   "source": [
    "## Machine Learning with Python: A Practical Introduction"
   ]
  },
  {
   "cell_type": "markdown",
   "metadata": {},
   "source": [
    "IBM Course on EdX\n",
    "\n",
    "This Machine Learning with Python course dives into the basics of machine learning using an approachable, and well-known, programming language. You'll learn about Supervised vs Unsupervised Learning, look into how Statistical Modeling relates to Machine Learning, and do a comparison of each. Look at real-life examples of Machine learning and how it affects society in ways you may not have guessed!"
   ]
  },
  {
   "cell_type": "markdown",
   "metadata": {},
   "source": [
    "### Learning Objectives\n",
    "\n",
    "In this course you will learn about:\n",
    "\n",
    "* How Statistical Modeling relates to Machine Learning and do a comparison of each.\n",
    "* Real-life examples of Machine learning and how it affects society in ways you may not have guessed!\n",
    "* In the labs: Use Python libraries for Machine Learning, such as scikit-learn.\n",
    "\n",
    "Explore many algorithms and models:\n",
    "* Popular algorithms: Regression, Classification, and Clustering\n",
    "* Recommender Systems: Content-Based and Collaborative Filtering\n",
    "* Popular models: Train/Test Split, Gradient Descent, and Mean Squared Error\n",
    "* Get ready to do more learning than your machine!"
   ]
  },
  {
   "cell_type": "code",
   "execution_count": null,
   "metadata": {},
   "outputs": [],
   "source": []
  }
 ],
 "metadata": {
  "kernelspec": {
   "display_name": "Python 3",
   "language": "python",
   "name": "python3"
  },
  "language_info": {
   "codemirror_mode": {
    "name": "ipython",
    "version": 3
   },
   "file_extension": ".py",
   "mimetype": "text/x-python",
   "name": "python",
   "nbconvert_exporter": "python",
   "pygments_lexer": "ipython3",
   "version": "3.6.1"
  }
 },
 "nbformat": 4,
 "nbformat_minor": 2
}
