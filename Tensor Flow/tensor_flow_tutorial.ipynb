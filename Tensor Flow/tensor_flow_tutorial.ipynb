{
 "cells": [
  {
   "cell_type": "markdown",
   "metadata": {},
   "source": [
    "## Tensor Flow Tutorial\n",
    "\n",
    "[Tensorflow for absolute beginner](https://towardsdatascience.com/tensorflow-for-absolute-beginners-28c1544fb0d6)"
   ]
  },
  {
   "cell_type": "code",
<<<<<<< HEAD
   "execution_count": 31,
   "metadata": {},
   "outputs": [
    {
     "name": "stdout",
     "output_type": "stream",
     "text": [
      "epoch: 3 mse: 0.0\n",
      "[[ 2.9555469]\n",
      " [ 4.159899 ]\n",
      " [-3.7844112]]\n"
=======
   "execution_count": 1,
   "metadata": {},
   "outputs": [
    {
     "ename": "ModuleNotFoundError",
     "evalue": "No module named 'tensorflow'",
     "output_type": "error",
     "traceback": [
      "\u001b[1;31m---------------------------------------------------------------------------\u001b[0m",
      "\u001b[1;31mModuleNotFoundError\u001b[0m                       Traceback (most recent call last)",
      "\u001b[1;32m<ipython-input-1-4d0afb874811>\u001b[0m in \u001b[0;36m<module>\u001b[1;34m()\u001b[0m\n\u001b[1;32m----> 1\u001b[1;33m \u001b[1;32mimport\u001b[0m \u001b[0mtensorflow\u001b[0m \u001b[1;32mas\u001b[0m \u001b[0mtf\u001b[0m\u001b[1;33m\u001b[0m\u001b[0m\n\u001b[0m",
      "\u001b[1;31mModuleNotFoundError\u001b[0m: No module named 'tensorflow'"
>>>>>>> 958402a1f82df80a10e59c5970a180d8809bc696
     ]
    }
   ],
   "source": [
<<<<<<< HEAD
    "import tensorflow as tf #importing the tensorflow library\n",
    "T, F = 1.0, -1.0   #True has the +1.0 value and False has -1.0, it's important to note that\n",
    "# you can assign any value to them\n",
    "bias = 1.0\n",
    "training_input = [\n",
    "    [T, T, bias],\n",
    "    [T, F, bias],\n",
    "    [F, T, bias],\n",
    "    [F, F, bias],\n",
    "]\n",
    "training_output = [\n",
    "    [T],\n",
    "    [F],\n",
    "    [F],\n",
    "    [F],\n",
    "]\n",
    "w = tf.Variable(tf.random_normal([3, 1]), dtype=tf.float32)\n",
    "# step(x) = { 1 if x > 0; -1 otherwise }\n",
    "def step(x):\n",
    "    is_greater = tf.greater(x, 0)\n",
    "    as_float = tf.to_float(is_greater)\n",
    "    doubled = tf.multiply(as_float, 2)\n",
    "    return tf.subtract(doubled, 1)\n",
    "\n",
    "output = step(tf.matmul(training_input, w))\n",
    "error = tf.subtract(training_output, output)\n",
    "mse = tf.reduce_mean(tf.square(error))\n",
    "\n",
    "delta = tf.matmul(training_input, error, transpose_a=True)\n",
    "train = tf.assign(w, tf.add(w, delta))\n",
    "\n",
    "sess = tf.Session()\n",
    "sess.run(tf.global_variables_initializer())\n",
    "\n",
    "err, target = 1, 0\n",
    "epoch, max_epochs = 0, 10\n",
    "\n",
    "while err > target and epoch < max_epochs:\n",
    "    epoch += 1\n",
    "    err, _ = sess.run([mse, train])\n",
    "print('epoch:', epoch, 'mse:', err)\n",
    "\n",
    "print(sess.run(w))"
=======
    "import tensorflow as tf "
>>>>>>> 958402a1f82df80a10e59c5970a180d8809bc696
   ]
  }
 ],
 "metadata": {
  "kernelspec": {
   "display_name": "Python 3",
   "language": "python",
   "name": "python3"
  },
  "language_info": {
   "codemirror_mode": {
    "name": "ipython",
    "version": 3
   },
   "file_extension": ".py",
   "mimetype": "text/x-python",
   "name": "python",
   "nbconvert_exporter": "python",
   "pygments_lexer": "ipython3",
<<<<<<< HEAD
   "version": "3.7.3"
  }
 },
 "nbformat": 4,
 "nbformat_minor": 4
=======
   "version": "3.6.1"
  }
 },
 "nbformat": 4,
 "nbformat_minor": 2
>>>>>>> 958402a1f82df80a10e59c5970a180d8809bc696
}
