{
 "cells": [
  {
   "cell_type": "markdown",
   "metadata": {},
   "source": [
    "### AWS Machine Learning - Data Science\n",
    "\n",
    "https://aws.amazon.com/training/learning-paths/machine-learning/data-scientist/\n",
    "\n",
    "![](https://d1.awsstatic.com/training-and-certification/Learning_Paths/path_ml-data-scientist_V3.c43ac852213e0f9970998ee7a0bfd9ea0a7a16fd.png)"
   ]
  },
  {
   "cell_type": "code",
   "execution_count": null,
   "metadata": {},
   "outputs": [],
   "source": []
  }
 ],
 "metadata": {
  "kernelspec": {
   "display_name": "Python 3",
   "language": "python",
   "name": "python3"
  },
  "language_info": {
   "codemirror_mode": {
    "name": "ipython",
    "version": 3
   },
   "file_extension": ".py",
   "mimetype": "text/x-python",
   "name": "python",
   "nbconvert_exporter": "python",
   "pygments_lexer": "ipython3",
   "version": "3.6.1"
  }
 },
 "nbformat": 4,
 "nbformat_minor": 2
}
