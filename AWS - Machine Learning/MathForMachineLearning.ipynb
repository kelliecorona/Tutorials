{
 "cells": [
  {
   "cell_type": "markdown",
   "metadata": {},
   "source": [
    "# Math for Machine Learning\n",
    "\n",
    "*Machine learning is a field of study that gives computers the ability to learn, without being explicitly programmed.* - Arthur Samuel, 1959\n",
    "\n",
    "The Machine Learning Pipeline:\n",
    "\n",
    "    Phase 1 : Data Processing\n",
    "    Phase 2 : Feature Engineering & Selection\n",
    "    Phase 3 : Modeling\n",
    "    Phase 4 : Optimization"
   ]
  },
  {
   "cell_type": "markdown",
   "metadata": {},
   "source": [
    "## I. Vectors"
   ]
  },
  {
   "cell_type": "markdown",
   "metadata": {},
   "source": [
    "\\begin{equation}\n",
    "A = (a_{ij}) \n",
    "= \\left[\n",
    "\\begin{matrix}\n",
    "a_{11} & a_{12} & ... & a_{1j}\\\\\n",
    "a_{21} & a_{22} & ... & a_{2j}\\\\\n",
    "\\vdots & \\vdots & \\ddots & \\vdots\\\\\n",
    "a_{i1} & a_{i2} & ... & a_{ij}\n",
    "\\end{matrix}\n",
    "\\right]\n",
    "= \n",
    "\\left[\n",
    "\\begin{matrix}\n",
    "\\mathbf{v_1} & \\mathbf{v_2} & ... & \\mathbf{v_j} \n",
    "\\end{matrix}\n",
    "\\right]\n",
    "\\end{equation}"
   ]
  },
  {
   "cell_type": "markdown",
   "metadata": {},
   "source": [
    "### Understanding Norms\n",
    "\n",
    "L_p - Norm : \n",
    "\\begin{equation}\n",
    "\\left\\| \\mathbf{v} \\right\\| _{p}\n",
    "= \n",
    "\\left(\n",
    "\\sum_{i=1}^{n} \\left| v_i \\right| ^{p}\n",
    "\\right) ^{1/p}\n",
    "\\end{equation}"
   ]
  },
  {
   "cell_type": "markdown",
   "metadata": {},
   "source": [
    "Eucledian Norm : distance between points\n",
    "\n",
    "$L_1-Norm$ (aka: Taxi Cab Metric or Manhattan Norm) : have to travel along grid lines\n",
    "\n",
    "$L_{\\infty}-Norm = max_{i} \\left| v_i \\right|$ : worst case analysis \n",
    "\n",
    "$L_0-Norm$ (not actually a norm) : Number of nonzero elements of $\\mathbf{v}$\n"
   ]
  },
  {
   "cell_type": "code",
   "execution_count": null,
   "metadata": {},
   "outputs": [],
   "source": []
  }
 ],
 "metadata": {
  "kernelspec": {
   "display_name": "Python 3",
   "language": "python",
   "name": "python3"
  },
  "language_info": {
   "codemirror_mode": {
    "name": "ipython",
    "version": 3
   },
   "file_extension": ".py",
   "mimetype": "text/x-python",
   "name": "python",
   "nbconvert_exporter": "python",
   "pygments_lexer": "ipython3",
   "version": "3.6.1"
  }
 },
 "nbformat": 4,
 "nbformat_minor": 2
}
